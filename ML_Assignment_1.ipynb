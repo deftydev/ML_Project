{
 "cells": [
  {
   "cell_type": "markdown",
   "id": "e23d4778",
   "metadata": {},
   "source": [
    "# 1. What does one mean by the term &quot;machine learning&quot;?"
   ]
  },
  {
   "cell_type": "code",
   "execution_count": null,
   "id": "574072c0",
   "metadata": {},
   "outputs": [],
   "source": [
    "Machine learning means when machine tries to learn itself without being explicilty programmed means you ust supply the equation \n",
    "and updated value for slope and coefficient will be calculated by machine to minimize the error term.\n"
   ]
  },
  {
   "cell_type": "markdown",
   "id": "6390960a",
   "metadata": {},
   "source": [
    "# 2.Can you think of 4 distinct types of issues where it shines?"
   ]
  },
  {
   "cell_type": "code",
   "execution_count": null,
   "id": "49a7e350",
   "metadata": {},
   "outputs": [],
   "source": [
    "Predicting the monthy sales of company\n",
    "predict the amount of rainfall pattern\n",
    "predict the wafer fault \n",
    "predict the cement strength"
   ]
  },
  {
   "cell_type": "markdown",
   "id": "48203c7f",
   "metadata": {},
   "source": [
    "# 3.What is a labeled training set, and how does it work?"
   ]
  },
  {
   "cell_type": "code",
   "execution_count": null,
   "id": "dd34ce84",
   "metadata": {},
   "outputs": [],
   "source": [
    "labelled training data set means output for the input is given so you can directly categorize as supervised learning."
   ]
  },
  {
   "cell_type": "markdown",
   "id": "5b3ce5b7",
   "metadata": {},
   "source": [
    "# 4.What are the two most important tasks that are supervised?"
   ]
  },
  {
   "cell_type": "code",
   "execution_count": null,
   "id": "45c6e9ff",
   "metadata": {},
   "outputs": [],
   "source": [
    "classification and regression based tasks"
   ]
  },
  {
   "cell_type": "code",
   "execution_count": null,
   "id": "ca318c46",
   "metadata": {},
   "outputs": [],
   "source": [
    "5.Can you think of four examples of unsupervised tasks?"
   ]
  },
  {
   "cell_type": "code",
   "execution_count": null,
   "id": "6c31c5f4",
   "metadata": {},
   "outputs": [],
   "source": [
    "classification of cat , dog between the animals \n",
    "news section segmentation\n",
    "speech recognition\n",
    "medical imaging"
   ]
  },
  {
   "cell_type": "code",
   "execution_count": null,
   "id": "e8ca795f",
   "metadata": {},
   "outputs": [],
   "source": [
    "6.State the machine learning model that would be best to make a robot walk through various\n",
    "unfamiliar terrains?"
   ]
  },
  {
   "cell_type": "code",
   "execution_count": null,
   "id": "d1daf7f9",
   "metadata": {},
   "outputs": [],
   "source": [
    "reinforcement learning\n"
   ]
  },
  {
   "cell_type": "code",
   "execution_count": null,
   "id": "7b1722a1",
   "metadata": {},
   "outputs": [],
   "source": [
    "7.Which algorithm will you use to divide your customers into different groups?"
   ]
  },
  {
   "cell_type": "code",
   "execution_count": null,
   "id": "ea47d57e",
   "metadata": {},
   "outputs": [],
   "source": [
    "clustering"
   ]
  },
  {
   "cell_type": "code",
   "execution_count": null,
   "id": "58303a32",
   "metadata": {},
   "outputs": [],
   "source": [
    "8.Will you consider the problem of spam detection to be a supervised or unsupervised learning\n",
    "problem?"
   ]
  },
  {
   "cell_type": "code",
   "execution_count": null,
   "id": "8f0809a5",
   "metadata": {},
   "outputs": [],
   "source": [
    "supervised learning"
   ]
  },
  {
   "cell_type": "code",
   "execution_count": null,
   "id": "52e011b6",
   "metadata": {},
   "outputs": [],
   "source": [
    "9.What is the concept of an online learning system?"
   ]
  },
  {
   "cell_type": "code",
   "execution_count": null,
   "id": "f5221100",
   "metadata": {},
   "outputs": [],
   "source": [
    "recommend the best courses according tothe unsupervised learning"
   ]
  },
  {
   "cell_type": "code",
   "execution_count": null,
   "id": "c3e2c124",
   "metadata": {},
   "outputs": [],
   "source": [
    "10.What is out-of-core learning, and how does it differ from core learning?"
   ]
  },
  {
   "cell_type": "code",
   "execution_count": null,
   "id": "effe12a1",
   "metadata": {},
   "outputs": [],
   "source": [
    "the data which does not fit in computer memory is out of core learning it generally stored in hard disks,\n",
    "vice versa for core learning"
   ]
  },
  {
   "cell_type": "code",
   "execution_count": null,
   "id": "6cd7e440",
   "metadata": {},
   "outputs": [],
   "source": []
  },
  {
   "cell_type": "code",
   "execution_count": null,
   "id": "121590b1",
   "metadata": {},
   "outputs": [],
   "source": [
    "11.What kind of learning algorithm makes predictions using a similarity measure?"
   ]
  },
  {
   "cell_type": "code",
   "execution_count": null,
   "id": "9bcae650",
   "metadata": {},
   "outputs": [],
   "source": [
    "unsupervised learning , clustering algo is used."
   ]
  },
  {
   "cell_type": "markdown",
   "id": "8c8f7196",
   "metadata": {},
   "source": [
    "# 12.What&#39;s the difference between a model parameter and a hyperparameter in a learning\n",
    "algorithm?"
   ]
  },
  {
   "cell_type": "code",
   "execution_count": null,
   "id": "cd5801d9",
   "metadata": {},
   "outputs": [],
   "source": [
    "hyperparameter means those parameter by which changig values of it model accuracy can be increased whereas model parameter are\n",
    "those which are used to build a model."
   ]
  },
  {
   "cell_type": "code",
   "execution_count": null,
   "id": "757a6c8b",
   "metadata": {},
   "outputs": [],
   "source": []
  },
  {
   "cell_type": "code",
   "execution_count": null,
   "id": "5bff08d7",
   "metadata": {},
   "outputs": [],
   "source": [
    "13.What are the criteria that model-based learning algorithms look for? What is the most popular\n",
    "method they use to achieve success? What method do they use to make predictions?"
   ]
  },
  {
   "cell_type": "code",
   "execution_count": null,
   "id": "7b53f456",
   "metadata": {},
   "outputs": [],
   "source": [
    "the accuracy score should be maximum, by standardization and doing feature selection, Random forest, xg boost "
   ]
  },
  {
   "cell_type": "code",
   "execution_count": null,
   "id": "859aa197",
   "metadata": {},
   "outputs": [],
   "source": [
    "14.Can you name four of the most important Machine Learning challenges?"
   ]
  },
  {
   "cell_type": "code",
   "execution_count": null,
   "id": "7a57af66",
   "metadata": {},
   "outputs": [],
   "source": [
    "accuracy of the data on unknown dataset\n",
    "Out of core learning\n",
    "cleaning of the data\n",
    "handling duplicate / null dataset or getting good expert advice"
   ]
  },
  {
   "cell_type": "code",
   "execution_count": null,
   "id": "2b4352ea",
   "metadata": {},
   "outputs": [],
   "source": []
  },
  {
   "cell_type": "code",
   "execution_count": null,
   "id": "db17ec79",
   "metadata": {},
   "outputs": [],
   "source": [
    "15.What happens if the model performs well on the training data but fails to generalize the results\n",
    "to new situations? Can you think of three different options?"
   ]
  },
  {
   "cell_type": "code",
   "execution_count": null,
   "id": "92fdae51",
   "metadata": {},
   "outputs": [],
   "source": [
    "Unknown data is not preprocessed\n",
    "unknown data has more features/columns\n",
    "unknown data is not standardized"
   ]
  },
  {
   "cell_type": "code",
   "execution_count": null,
   "id": "f91d00a4",
   "metadata": {},
   "outputs": [],
   "source": [
    "16.What exactly is a test set, and why would you need one?"
   ]
  },
  {
   "cell_type": "code",
   "execution_count": null,
   "id": "bd04933f",
   "metadata": {},
   "outputs": [],
   "source": [
    "To test model on unknown dataset"
   ]
  },
  {
   "cell_type": "markdown",
   "id": "8a6e1eba",
   "metadata": {},
   "source": [
    "# 17.What is a validation set&#39;s purpose?"
   ]
  },
  {
   "cell_type": "code",
   "execution_count": null,
   "id": "4b560205",
   "metadata": {},
   "outputs": [],
   "source": [
    "To do the data validation, to test training , test hyperparameters."
   ]
  },
  {
   "cell_type": "code",
   "execution_count": null,
   "id": "1c217cff",
   "metadata": {},
   "outputs": [],
   "source": [
    "18.What precisely is the train-dev kit, when will you need it, how do you put it to use?"
   ]
  },
  {
   "cell_type": "code",
   "execution_count": null,
   "id": "77d6d766",
   "metadata": {},
   "outputs": [],
   "source": [
    "To test for the overfitting of the model."
   ]
  },
  {
   "cell_type": "code",
   "execution_count": null,
   "id": "d8749c86",
   "metadata": {},
   "outputs": [],
   "source": [
    "19.What could go wrong if you use the test set to tune hyperparameters?"
   ]
  },
  {
   "cell_type": "code",
   "execution_count": null,
   "id": "2e0b8e99",
   "metadata": {},
   "outputs": [],
   "source": [
    "You will get false accuracy of the model using new hyparameter values as you are experimenting them on test."
   ]
  },
  {
   "cell_type": "code",
   "execution_count": null,
   "id": "83a2f5f6",
   "metadata": {},
   "outputs": [],
   "source": []
  }
 ],
 "metadata": {
  "kernelspec": {
   "display_name": "Python 3 (ipykernel)",
   "language": "python",
   "name": "python3"
  },
  "language_info": {
   "codemirror_mode": {
    "name": "ipython",
    "version": 3
   },
   "file_extension": ".py",
   "mimetype": "text/x-python",
   "name": "python",
   "nbconvert_exporter": "python",
   "pygments_lexer": "ipython3",
   "version": "3.9.13"
  }
 },
 "nbformat": 4,
 "nbformat_minor": 5
}
